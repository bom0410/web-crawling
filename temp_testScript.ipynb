{
 "cells": [
  {
   "cell_type": "code",
   "execution_count": 11,
   "metadata": {},
   "outputs": [],
   "source": [
    "import requests\n",
    "import re # Regular Expression parsing을 위함\n",
    "from bs4 import BeautifulSoup\n",
    "from time import sleep # Selenium을 사용하면 브라우저 로딩시간을 기다려야할 필요가 생김. 잠깐 멈추기  위함\n",
    "from selenium import webdriver # Webdriver를 사용해서 Chrome 브라우저를 컨트롤하기 위함\n",
    "from selenium.common.exceptions import NoSuchElementException # 없는 요소 찾을 때 오류 처리를 위함\n",
    "from datetime import datetime # 오늘 연월일 사용을 위함\n",
    "\n",
    "############# 필요한 기본 변수들, 드라이버 설정 진행 ############\n",
    "now = datetime.now() #현재 시간을 받는다. 연월일을 활용하기 위함\n",
    "driver = webdriver.Chrome('/Users/youngjinlim/Coding/Drivers/chromedriver_mac64/chromedriver')\n",
    "driver.set_window_size(1280, 720) # 크롬 창 크기 조절\n",
    "#크롬 구동을 위한 크롬드라이버 사용. PATH 등록을 해 주어야 하는데, 다음 링크를 참고하자. https://www.kenst.com/2015/03/including-the-chromedriver-location-in-macos-system-path/\n",
    "########################################################"
   ]
  },
  {
   "cell_type": "code",
   "execution_count": 28,
   "metadata": {
    "scrolled": true
   },
   "outputs": [
    {
     "name": "stdout",
     "output_type": "stream",
     "text": [
      "['https://www.theverge.com/archives/tech/2011/4', 'https://www.theverge.com/archives/tech/2011/5', 'https://www.theverge.com/archives/tech/2011/6', 'https://www.theverge.com/archives/tech/2011/7', 'https://www.theverge.com/archives/tech/2011/8', 'https://www.theverge.com/archives/tech/2011/9', 'https://www.theverge.com/archives/tech/2011/10', 'https://www.theverge.com/archives/tech/2011/11', 'https://www.theverge.com/archives/tech/2011/12', 'https://www.theverge.com/archives/tech/2012/1', 'https://www.theverge.com/archives/tech/2012/2', 'https://www.theverge.com/archives/tech/2012/3', 'https://www.theverge.com/archives/tech/2012/4', 'https://www.theverge.com/archives/tech/2012/5', 'https://www.theverge.com/archives/tech/2012/6', 'https://www.theverge.com/archives/tech/2012/7', 'https://www.theverge.com/archives/tech/2012/8', 'https://www.theverge.com/archives/tech/2012/9', 'https://www.theverge.com/archives/tech/2012/10', 'https://www.theverge.com/archives/tech/2012/11', 'https://www.theverge.com/archives/tech/2012/12', 'https://www.theverge.com/archives/tech/2013/1', 'https://www.theverge.com/archives/tech/2013/2', 'https://www.theverge.com/archives/tech/2013/3', 'https://www.theverge.com/archives/tech/2013/4', 'https://www.theverge.com/archives/tech/2013/5', 'https://www.theverge.com/archives/tech/2013/6', 'https://www.theverge.com/archives/tech/2013/7', 'https://www.theverge.com/archives/tech/2013/8', 'https://www.theverge.com/archives/tech/2013/9', 'https://www.theverge.com/archives/tech/2013/10', 'https://www.theverge.com/archives/tech/2013/11', 'https://www.theverge.com/archives/tech/2013/12', 'https://www.theverge.com/archives/tech/2014/1', 'https://www.theverge.com/archives/tech/2014/2', 'https://www.theverge.com/archives/tech/2014/3', 'https://www.theverge.com/archives/tech/2014/4', 'https://www.theverge.com/archives/tech/2014/5', 'https://www.theverge.com/archives/tech/2014/6', 'https://www.theverge.com/archives/tech/2014/7', 'https://www.theverge.com/archives/tech/2014/8', 'https://www.theverge.com/archives/tech/2014/9', 'https://www.theverge.com/archives/tech/2014/10', 'https://www.theverge.com/archives/tech/2014/11', 'https://www.theverge.com/archives/tech/2014/12', 'https://www.theverge.com/archives/tech/2015/1', 'https://www.theverge.com/archives/tech/2015/2', 'https://www.theverge.com/archives/tech/2015/3', 'https://www.theverge.com/archives/tech/2015/4', 'https://www.theverge.com/archives/tech/2015/5', 'https://www.theverge.com/archives/tech/2015/6', 'https://www.theverge.com/archives/tech/2015/7', 'https://www.theverge.com/archives/tech/2015/8', 'https://www.theverge.com/archives/tech/2015/9', 'https://www.theverge.com/archives/tech/2015/10', 'https://www.theverge.com/archives/tech/2015/11', 'https://www.theverge.com/archives/tech/2015/12', 'https://www.theverge.com/archives/tech/2016/1', 'https://www.theverge.com/archives/tech/2016/2', 'https://www.theverge.com/archives/tech/2016/3', 'https://www.theverge.com/archives/tech/2016/4', 'https://www.theverge.com/archives/tech/2016/5', 'https://www.theverge.com/archives/tech/2016/6', 'https://www.theverge.com/archives/tech/2016/7', 'https://www.theverge.com/archives/tech/2016/8', 'https://www.theverge.com/archives/tech/2016/9', 'https://www.theverge.com/archives/tech/2016/10', 'https://www.theverge.com/archives/tech/2016/11', 'https://www.theverge.com/archives/tech/2016/12', 'https://www.theverge.com/archives/tech/2017/1', 'https://www.theverge.com/archives/tech/2017/2', 'https://www.theverge.com/archives/tech/2017/3', 'https://www.theverge.com/archives/tech/2017/4', 'https://www.theverge.com/archives/tech/2017/5', 'https://www.theverge.com/archives/tech/2017/6', 'https://www.theverge.com/archives/tech/2017/7', 'https://www.theverge.com/archives/tech/2017/8', 'https://www.theverge.com/archives/tech/2017/9', 'https://www.theverge.com/archives/tech/2017/10', 'https://www.theverge.com/archives/tech/2017/11', 'https://www.theverge.com/archives/tech/2017/12', 'https://www.theverge.com/archives/tech/2018/1', 'https://www.theverge.com/archives/tech/2018/2', 'https://www.theverge.com/archives/tech/2018/3', 'https://www.theverge.com/archives/tech/2018/4', 'https://www.theverge.com/archives/tech/2018/5', 'https://www.theverge.com/archives/tech/2018/6', 'https://www.theverge.com/archives/tech/2018/7', 'https://www.theverge.com/archives/tech/2018/8', 'https://www.theverge.com/archives/tech/2018/9', 'https://www.theverge.com/archives/tech/2018/10', 'https://www.theverge.com/archives/tech/2018/11', 'https://www.theverge.com/archives/tech/2018/12', 'https://www.theverge.com/archives/tech/2019/1', 'https://www.theverge.com/archives/tech/2019/2', 'https://www.theverge.com/archives/tech/2019/3', 'https://www.theverge.com/archives/tech/2019/4', 'https://www.theverge.com/archives/tech/2019/5', 'https://www.theverge.com/archives/tech/2019/6', 'https://www.theverge.com/archives/tech/2019/7', 'https://www.theverge.com/archives/tech/2019/8', 'https://www.theverge.com/archives/tech/2019/9', 'https://www.theverge.com/archives/tech/2019/10']\n"
     ]
    }
   ],
   "source": [
    "def making_url():\n",
    "    # Verge URL 규칙에 따라 URL 생성\n",
    "    target_page_list = []\n",
    "    for each_year in range(2011,now.year+1):\n",
    "        month_start = 1\n",
    "        month_end = 13\n",
    "        if each_year == now.year:\n",
    "            month_end = now.month + 1\n",
    "        elif each_year == 2011:\n",
    "            month_start = 4\n",
    "        for each_month in range(month_start,month_end):\n",
    "            url = \"https://www.theverge.com/archives/tech/\" + str(each_year) + \"/\" + str(each_month)\n",
    "            target_page_list.append(url)\n",
    "    return target_page_list"
   ]
  },
  {
   "cell_type": "code",
   "execution_count": null,
   "metadata": {},
   "outputs": [],
   "source": [
    "#!!!!!!!!!!! 남은 작업 : 개별 기사 URL 잘 모아지는지 테스트하기. txt로 내보내보자.\n",
    "\n",
    "def archieve_page_mining(target_page_list)\n",
    "    #기사 모여있는 URL 리스트를 가지고 기사 URL 모으기\n",
    "    total_article_link_list = []\n",
    "    for each_url in target_page_list:\n",
    "        driver.get(each_url)\n",
    "        try: #Load More 버튼이 안 나올때까지 무한으로 버튼을 눌러준다.\n",
    "            while True:\n",
    "                driver.find_element_by_class_name('p-button c-archives-load-more__button').click()\n",
    "                time(1.5) #로딩 기다림\n",
    "        except NoSuchElementException:\n",
    "            #더 이상 버튼이 안 나오면, 모두 확장한 것이므로 기사 URL을 수집한다.\n",
    "            articlelink_list = driver.find_elements_by_css_selector('a[data-analytics-link][href]')\n",
    "            # 기사 제목 링크의 구조가 'a[data-analytics-link][href]' 이 CSS selector구분으로 선택 가능하게 되어있음\n",
    "            for each in articlelink_list:\n",
    "                each_link = each.get_attribute('href') #href속성 : 링크 가져옴\n",
    "                #일부 동일한 CSS Selector 구조를 가지면서 이상한 링크인 녀석이 숨어 있음\n",
    "                #기사 링크만 뽑아내기 위해, 아래와 같은 구조 사용\n",
    "                if re.match(re.compile(r'https://www.theverge.com/20\\w'),each_link) = None:\n",
    "                    #기사 URL이면 리스트에 넣음\n",
    "                    total_article_link_list.append(each_link)\n",
    "    return total_article_link_list"
   ]
  },
  {
   "cell_type": "code",
   "execution_count": 26,
   "metadata": {
    "scrolled": false
   },
   "outputs": [
    {
     "name": "stdout",
     "output_type": "stream",
     "text": [
      "Wake Word: An Algorithmic Nightmare\n",
      "2019-01-31T15:52:31+00:00\n",
      "\n",
      "\n",
      "\n",
      "\n",
      "It’s your first day of work at Cadabra: the #1 retailer of books, clothing, home goods, healthcare, real estate, defense technology, and mortuary services in Unified America, and the only company left standing after the Disruption War.\n",
      "But before you can start, you have to get out of your apartment — no thanks to your personal AI assistant, who controls everything from your shower temperature to your social credit score. There is one way to be a productive citizen in Cadabra’s domed civilization. There are twelve ways to fail.\n",
      "\n",
      "\n",
      "\n"
     ]
    }
   ],
   "source": [
    "#!!!!!!!!!!! 남은 작업 : CSV에 긁어온거 다 쓰기.\n",
    "\n",
    "def html_parsing_get_contents(total_article_link_list)\n",
    "    for each_link in total_article_link_list:\n",
    "        req = requests.get(each_link)\n",
    "        html = req.text\n",
    "        soup = BeautifulSoup(html, 'html.parser')\n",
    "        title = soup.find('h1', class_='c-page-title').getText() #내부 텍스트만 가져오기 위한 getText()\n",
    "            #print(title)\n",
    "        published_time = soup.find('time')['datetime'] \n",
    "        #기사 작성시간 잘 찾아옴. ['datetime'] : datetime attribute를 가져오기 위한 argument\n",
    "            #print(published_time)\n",
    "        contents = soup.find('div', class_='c-entry-content')\n",
    "            #print(contents.getText())\n"
   ]
  }
 ],
 "metadata": {
  "kernelspec": {
   "display_name": "Python 3",
   "language": "python",
   "name": "python3"
  },
  "language_info": {
   "codemirror_mode": {
    "name": "ipython",
    "version": 3
   },
   "file_extension": ".py",
   "mimetype": "text/x-python",
   "name": "python",
   "nbconvert_exporter": "python",
   "pygments_lexer": "ipython3",
   "version": "3.7.4"
  }
 },
 "nbformat": 4,
 "nbformat_minor": 2
}
